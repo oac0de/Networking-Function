{
 "cells": [
  {
   "cell_type": "code",
   "execution_count": 49,
   "metadata": {
    "ExecuteTime": {
     "end_time": "2020-12-31T21:10:38.262726Z",
     "start_time": "2020-12-31T21:10:38.258292Z"
    }
   },
   "outputs": [],
   "source": [
    "def how_do_i_approach():\n",
    "    \n",
    "    connection = input(\"Do you know anyone at this company? (yes or no) \")\n",
    "    if connection == \"yes\":\n",
    "        degree_of_conn = input(\"Is this someone you know personally? (yes or no) \")\n",
    "        if degree_of_conn == \"yes\":\n",
    "            print(\"\\nInitiate a discussion at their convenience and just catch up. Then ask if they can make an introduction to a Recruiting Manager for you.\\n This is your 1 ask! Only ask of one thing.\")\n",
    "        else: \n",
    "            print(\"\")\n",
    "        \n",
    "    degree_of_conn = input(\"Is this someone you know personally? (yes or no) \")\n",
    "    if degree_of_conn == \"yes\":\n",
    "        print(\"\\nTry to have a nice discussion first. Then ask if they can make an introduction to a Recruiting Manager for you. \")\n",
    "    else:\n",
    "        print(\"\\n You're on your own kid. Good luck!\")\n",
    "    \n",
    "   "
   ]
  },
  {
   "cell_type": "code",
   "execution_count": 50,
   "metadata": {
    "ExecuteTime": {
     "end_time": "2020-12-31T22:40:02.255991Z",
     "start_time": "2020-12-31T21:10:40.735085Z"
    }
   },
   "outputs": [
    {
     "name": "stdout",
     "output_type": "stream",
     "text": [
      "Do you know anyone at this company? (yes or no) yes\n",
      "Is this someone you know personally? (yes or no) yes\n",
      "\n",
      "Open up a nice discussion first. Then ask if they can make an introduction to a Recruiting Manager for you. \n",
      " This is your 1 ask! Only ask of one thing.\n",
      "Is this someone you know personally? (yes or no) no\n",
      "\n",
      " You're on your own kid. Good luck!\n"
     ]
    }
   ],
   "source": [
    "how_do_i_approach()"
   ]
  },
  {
   "cell_type": "code",
   "execution_count": null,
   "metadata": {},
   "outputs": [],
   "source": [
    " print(\"Choose from the following positions:\\n \\nFriend who works there \\nData Scientist \\nHR/Recruiting Manager \\n  \")\n",
    "    positions = (input(\"Position: \"))\n",
    "\n",
    "    print(somehting)\n"
   ]
  }
 ],
 "metadata": {
  "kernelspec": {
   "display_name": "Python 3",
   "language": "python",
   "name": "python3"
  },
  "language_info": {
   "codemirror_mode": {
    "name": "ipython",
    "version": 3
   },
   "file_extension": ".py",
   "mimetype": "text/x-python",
   "name": "python",
   "nbconvert_exporter": "python",
   "pygments_lexer": "ipython3",
   "version": "3.6.9"
  },
  "toc": {
   "base_numbering": 1,
   "nav_menu": {},
   "number_sections": true,
   "sideBar": true,
   "skip_h1_title": false,
   "title_cell": "Table of Contents",
   "title_sidebar": "Contents",
   "toc_cell": false,
   "toc_position": {},
   "toc_section_display": true,
   "toc_window_display": false
  },
  "varInspector": {
   "cols": {
    "lenName": 16,
    "lenType": 16,
    "lenVar": 40
   },
   "kernels_config": {
    "python": {
     "delete_cmd_postfix": "",
     "delete_cmd_prefix": "del ",
     "library": "var_list.py",
     "varRefreshCmd": "print(var_dic_list())"
    },
    "r": {
     "delete_cmd_postfix": ") ",
     "delete_cmd_prefix": "rm(",
     "library": "var_list.r",
     "varRefreshCmd": "cat(var_dic_list()) "
    }
   },
   "types_to_exclude": [
    "module",
    "function",
    "builtin_function_or_method",
    "instance",
    "_Feature"
   ],
   "window_display": false
  }
 },
 "nbformat": 4,
 "nbformat_minor": 2
}
