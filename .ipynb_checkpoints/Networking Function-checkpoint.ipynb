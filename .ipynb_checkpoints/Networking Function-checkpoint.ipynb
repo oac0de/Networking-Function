{
 "cells": [
  {
   "cell_type": "code",
   "execution_count": 1,
   "metadata": {
    "ExecuteTime": {
     "end_time": "2021-01-02T21:17:08.671967Z",
     "start_time": "2021-01-02T21:17:08.668076Z"
    }
   },
   "outputs": [],
   "source": [
    "def how_do_i_approach():\n",
    "    \n",
    "    connection = input(\"Do you know anyone at this company? (yes or no) \")\n",
    "    if connection == \"yes\":\n",
    "        degree_of_conn = input(\"Is this someone you know personally? (yes or no) \")\n",
    "        if degree_of_conn == \"yes\":\n",
    "            print(\"\\nInitiate a discussion at their convenience and just catch up. Then ask if they can make an introduction to a Recruiting Manager for you.\\n This is your 1 ask! Only ask of one thing.\")\n",
    "        else: \n",
    "            print(\"\\nTry to find some commonality or a post/blog where you can view their work and express interest. Ask if they are willing to have a chat over the phone. Use this opportunity to find out about their position and then you can ask if they can introduce you to the HR manager/Recruiting manager.\")\n",
    "    else:\n",
    "        print(\"Do a LinkedIn search for Senior Data Scientists/Data Engineers at the company. Then try to find their email address through a Google search. If you have found the right address, their image will appear when you type the address in the 'send to' box. Try to view some work of theirs on GitHub or Medium and draft the email to them, keeping it short, concise, and with one ask.\")\n",
    "        \n",
    "   "
   ]
  },
  {
   "cell_type": "code",
   "execution_count": 4,
   "metadata": {
    "ExecuteTime": {
     "end_time": "2021-01-02T21:17:41.600854Z",
     "start_time": "2021-01-02T21:17:39.058158Z"
    }
   },
   "outputs": [
    {
     "name": "stdout",
     "output_type": "stream",
     "text": [
      "Do you know anyone at this company? (yes or no) yes\n",
      "Is this someone you know personally? (yes or no) no\n",
      "\n",
      "Try to find some commonality or a post/blog where you can view their work and express interest. Ask if they are willing to have a chat over the phone. Use this opportunity to find out about their position and then you can ask if they can introduce you to the HR manager/Recruiting manager.\n"
     ]
    }
   ],
   "source": [
    "how_do_i_approach()"
   ]
  }
 ],
 "metadata": {
  "kernelspec": {
   "display_name": "Python 3",
   "language": "python",
   "name": "python3"
  },
  "language_info": {
   "codemirror_mode": {
    "name": "ipython",
    "version": 3
   },
   "file_extension": ".py",
   "mimetype": "text/x-python",
   "name": "python",
   "nbconvert_exporter": "python",
   "pygments_lexer": "ipython3",
   "version": "3.6.9"
  },
  "toc": {
   "base_numbering": 1,
   "nav_menu": {},
   "number_sections": true,
   "sideBar": true,
   "skip_h1_title": false,
   "title_cell": "Table of Contents",
   "title_sidebar": "Contents",
   "toc_cell": false,
   "toc_position": {},
   "toc_section_display": true,
   "toc_window_display": false
  },
  "varInspector": {
   "cols": {
    "lenName": 16,
    "lenType": 16,
    "lenVar": 40
   },
   "kernels_config": {
    "python": {
     "delete_cmd_postfix": "",
     "delete_cmd_prefix": "del ",
     "library": "var_list.py",
     "varRefreshCmd": "print(var_dic_list())"
    },
    "r": {
     "delete_cmd_postfix": ") ",
     "delete_cmd_prefix": "rm(",
     "library": "var_list.r",
     "varRefreshCmd": "cat(var_dic_list()) "
    }
   },
   "types_to_exclude": [
    "module",
    "function",
    "builtin_function_or_method",
    "instance",
    "_Feature"
   ],
   "window_display": false
  }
 },
 "nbformat": 4,
 "nbformat_minor": 2
}
